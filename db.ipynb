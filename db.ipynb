{
 "cells": [
  {
   "cell_type": "code",
   "execution_count": 2,
   "metadata": {},
   "outputs": [],
   "source": [
    "import sqlite3\n",
    "import re\n",
    "class databaseFunc:\n",
    "\n",
    "    def comm():\n",
    "        conn.commit()\n",
    "\n",
    "    def open_conn(self,databaseName):\n",
    "        try:\n",
    "            connection1 = sqlite3.connect(databaseName)\n",
    "            cursor1 = connection1.cursor()\n",
    "            return cursor1,connection1;\n",
    "        except:\n",
    "            print(\"An error occured\")\n",
    "    \n",
    "    #connection1 = sqlite3.connect('APITest.sqlite')\n",
    "    #cursor1 = connection1.cursor()\n",
    "    def searchUser(self,email,password):\n",
    "        c,conn = self.open_conn('APITest.sqlite')\n",
    "        c.execute('''SELECT*FROM Users WHERE email = ? AND password = ?''', (email ,password ))\n",
    "        return c.fetchall()\n",
    "        #print(c.fetchall())\n",
    "        comm()\n",
    "        conn.close()\n",
    "\n",
    "    def displayUser(self):\n",
    "        c,conn = self.open_conn('APITest.sqlite')\n",
    "        c.execute('''SELECT* FROM Users''')\n",
    "        return c.fetchall()\n",
    "        conn.close() \n",
    "\n",
    "    def removeToken(self,uid):\n",
    "        c,conn = self.open_conn('APITest.sqlite')\n",
    "        c.execute('''DELETE FROM Tokens WHERE uid = ?''', (uid , ))\n",
    "        comm()\n",
    "        conn.close()\n",
    "    \n",
    "    def insertUser(self,email,password):\n",
    "        c,conn = self.open_conn('APITest.sqlite')\n",
    "        try:\n",
    "            c.execute('''INSERT INTO Users (email, password) VALUES (?, ?)''', (email , password))\n",
    "            comm()\n",
    "        except:\n",
    "            print(\"some error occured\")\n",
    "        conn.close()   \n",
    "\n",
    "    def searchToken(self,uid):\n",
    "        c,conn = self.open_conn('APITest.sqlite')\n",
    "        c.execute('''SELECT*FROM Tokens WHERE uid = ?''', (uid, ))\n",
    "        return c.fetchone()\n",
    "        #print(c.fetchall())\n",
    "        comm()\n",
    "        conn.close() \n",
    "\n",
    "    def insertToken(self,token,uid):\n",
    "        c,conn = self.open_conn('APITest.sqlite')\n",
    "        #try:\n",
    "        c.execute('''INSERT INTO Tokens (token, uid) VALUES (?, ?)''', (token , uid))\n",
    "        conn.commit()\n",
    "        #except:\n",
    "           # e = sys.exc_info()[0]\n",
    "            #print(e)\n",
    "        conn.close()          \n",
    "\n",
    "    \n"
   ]
  },
  {
   "cell_type": "code",
   "execution_count": 10,
   "metadata": {},
   "outputs": [
    {
     "output_type": "execute_result",
     "data": {
      "text/plain": "1"
     },
     "metadata": {},
     "execution_count": 10
    }
   ],
   "source": [
    "dbc= databaseFunc()\n",
    "data1 = dbc.searchUser(\"aditya@gmail.com\",\"123456\")\n",
    "data = dbc.searchToken(1)\n",
    "#dbc.display()\n",
    "data1[0][0]"
   ]
  },
  {
   "cell_type": "code",
   "execution_count": null,
   "metadata": {},
   "outputs": [],
   "source": []
  }
 ],
 "metadata": {
  "language_info": {
   "codemirror_mode": {
    "name": "ipython",
    "version": 3
   },
   "file_extension": ".py",
   "mimetype": "text/x-python",
   "name": "python",
   "nbconvert_exporter": "python",
   "pygments_lexer": "ipython3",
   "version": "3.7.3-final"
  },
  "orig_nbformat": 2,
  "kernelspec": {
   "name": "python3",
   "display_name": "Python 3"
  }
 },
 "nbformat": 4,
 "nbformat_minor": 2
}