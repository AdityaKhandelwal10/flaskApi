{
 "cells": [
  {
   "cell_type": "code",
   "execution_count": 3,
   "metadata": {},
   "outputs": [],
   "source": [
    "import random\n",
    "import string\n",
    "import db_func\n",
    "\n",
    "dbc = db_func.databaseFunc()\n",
    "\n",
    "\n",
    "def check_token(uid):\n",
    "  token = dbc.seachToken(uid)\n",
    "  if token is None:\n",
    "    generateToken(uid)\n",
    "  \n",
    "  \n",
    "def generateToken(uid):\n",
    "  N=8\n",
    "  token = ''.join(random.choices(string.ascii_uppercase +\n",
    "                             string.digits, k = N)) \n",
    "  dbc.insertToken(token,uid)\n",
    "  "
   ]
  },
  {
   "cell_type": "markdown",
   "metadata": {},
   "source": [
    "\n",
    "a = (generateToken(2))\n",
    "print(\"The generated random string : \" + str(a)) "
   ]
  },
  {
   "cell_type": "markdown",
   "metadata": {},
   "source": [
    "def update(org, ctr):\n",
    "    c.execute('''UPDATE Counts SET count = ? WHERE org = ?''', (ctr, org))\n",
    "    comm()\n",
    "\n",
    "def remove(org):\n",
    "    c.execute('''DELETE FROM Counts WHERE org = ?''', (org , ))\n",
    "    comm()\n",
    "\n",
    "def sort():\n",
    "    c.execute('''SELECT*FROM Counts ORDER BY count''')\n",
    "    comm()"
   ]
  },
  {
   "cell_type": "markdown",
   "metadata": {},
   "source": [
    "import sqlite3\n",
    "import re\n",
    "\n",
    "class connection:\n",
    "    conn = sqlite3.connect('APITest.sqlite')\n",
    "    def open():\n",
    "        \n",
    "        c = conn.cursor()\n",
    "\n",
    "    def close():\n",
    "        conn.close()\n",
    "\n",
    "\n",
    "def comm():\n",
    "    conn.commit()\n",
    "\n",
    "#new user - write op\n",
    "def insert(email,password):\n",
    "    conn = sqlite3.connect('APITest.sqlite')\n",
    "    c = conn.cursor()\n",
    "    try:\n",
    "        c.execute('''INSERT INTO Users (email, password) VALUES (?, ?)''', (email , password))\n",
    "        comm()\n",
    "    except:\n",
    "        print(\"some error occured\")\n",
    "    conn.close()   \n",
    "\n",
    "\n",
    "# existing users - read op\n",
    "def search(email,password):\n",
    "    conn = sqlite3.connect('APITest.sqlite')\n",
    "    c = conn.cursor()\n",
    "    c.execute('''SELECT*FROM Users WHERE email = ? AND password = ?''', (email ,password ))\n",
    "    return c.fetchall()\n",
    "    #print(c.fetchall())\n",
    "    comm()\n",
    "    conn.close()\n",
    "\n",
    "\n",
    "search(\"aditya@gmail.com\",\"123456\")\n",
    "#stores - display op \n",
    "def display():\n",
    "    conn = sqlite3.connect('APITest.sqlite')\n",
    "    c = conn.cursor()\n",
    "    c.execute('''SELECT* FROM Users''')\n",
    "    return c.fetchall()\n",
    "\n",
    "    conn.close() \n",
    "\n",
    "#insert(\"aditya1@gmail.com\",\"123456\")\n",
    "#display()\n",
    "\n",
    "\n"
   ]
  },
  {
   "cell_type": "code",
   "execution_count": 2,
   "metadata": {},
   "outputs": [],
   "source": []
  },
  {
   "cell_type": "code",
   "execution_count": 3,
   "metadata": {},
   "outputs": [],
   "source": []
  }
 ],
 "metadata": {
  "language_info": {
   "codemirror_mode": {
    "name": "ipython",
    "version": 3
   },
   "file_extension": ".py",
   "mimetype": "text/x-python",
   "name": "python",
   "nbconvert_exporter": "python",
   "pygments_lexer": "ipython3",
   "version": "3.7.3-final"
  },
  "orig_nbformat": 2,
  "kernelspec": {
   "name": "python3",
   "display_name": "Python 3"
  }
 },
 "nbformat": 4,
 "nbformat_minor": 2
}